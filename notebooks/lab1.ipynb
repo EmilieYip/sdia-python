{
 "cells": [
  {
   "cell_type": "markdown",
   "source": [
    "# Practical session 1 - Some Python basics\n",
    "\n",
    "Course: [SDIA-Python](https://github.com/guilgautier/sdia-python)\n",
    "\n",
    "Dates: 09/21/2021-09/22/2021\n",
    "\n",
    "Instructor: [Guillaume Gautier](https://guilgautier.github.io/)\n",
    "\n",
    "Students (pair):\n",
    "- [Student 1]([link](https://github.com/username1))\n",
    "- [Student 2]([link](https://github.com/username2))"
   ],
   "metadata": {}
  },
  {
   "cell_type": "code",
   "execution_count": 75,
   "source": [
    "%load_ext autoreload\r\n",
    "%autoreload 2"
   ],
   "outputs": [],
   "metadata": {}
  },
  {
   "cell_type": "markdown",
   "source": [
    "## Documentation\n",
    "\n",
    "To display the documentation associated to a Python function in your notebook (launched in VSCode), you can either\n",
    "- run `?functionname` or `help(my_adder)`\n",
    "- place your mouse pointer on the function name\n",
    "- write the name of the function and start opening the brackets"
   ],
   "metadata": {}
  },
  {
   "cell_type": "markdown",
   "source": [
    "## Zen of Python\n"
   ],
   "metadata": {}
  },
  {
   "cell_type": "code",
   "execution_count": 2,
   "source": [
    "import this"
   ],
   "outputs": [
    {
     "output_type": "stream",
     "name": "stdout",
     "text": [
      "The Zen of Python, by Tim Peters\n",
      "\n",
      "Beautiful is better than ugly.\n",
      "Explicit is better than implicit.\n",
      "Simple is better than complex.\n",
      "Complex is better than complicated.\n",
      "Flat is better than nested.\n",
      "Sparse is better than dense.\n",
      "Readability counts.\n",
      "Special cases aren't special enough to break the rules.\n",
      "Although practicality beats purity.\n",
      "Errors should never pass silently.\n",
      "Unless explicitly silenced.\n",
      "In the face of ambiguity, refuse the temptation to guess.\n",
      "There should be one-- and preferably only one --obvious way to do it.\n",
      "Although that way may not be obvious at first unless you're Dutch.\n",
      "Now is better than never.\n",
      "Although never is often better than *right* now.\n",
      "If the implementation is hard to explain, it's a bad idea.\n",
      "If the implementation is easy to explain, it may be a good idea.\n",
      "Namespaces are one honking great idea -- let's do more of those!\n"
     ]
    }
   ],
   "metadata": {}
  },
  {
   "cell_type": "markdown",
   "source": [
    "## Reserved keywords\n"
   ],
   "metadata": {}
  },
  {
   "cell_type": "code",
   "execution_count": 3,
   "source": [
    "import keyword\r\n",
    "print(keyword.kwlist)"
   ],
   "outputs": [
    {
     "output_type": "stream",
     "name": "stdout",
     "text": [
      "['False', 'None', 'True', 'and', 'as', 'assert', 'async', 'await', 'break', 'class', 'continue', 'def', 'del', 'elif', 'else', 'except', 'finally', 'for', 'from', 'global', 'if', 'import', 'in', 'is', 'lambda', 'nonlocal', 'not', 'or', 'pass', 'raise', 'return', 'try', 'while', 'with', 'yield']\n"
     ]
    }
   ],
   "metadata": {}
  },
  {
   "cell_type": "markdown",
   "source": [
    "## Arithmetic"
   ],
   "metadata": {}
  },
  {
   "cell_type": "markdown",
   "source": [
    "Compute 4 raised to the power 8"
   ],
   "metadata": {}
  },
  {
   "cell_type": "code",
   "execution_count": 5,
   "source": [
    "res = 4 ** 8\r\n",
    "res "
   ],
   "outputs": [
    {
     "output_type": "execute_result",
     "data": {
      "text/plain": [
       "65536"
      ]
     },
     "metadata": {},
     "execution_count": 5
    }
   ],
   "metadata": {}
  },
  {
   "cell_type": "markdown",
   "source": [
    "Compute the quotient and the remainder of the euclidean division of 17 by 3. "
   ],
   "metadata": {}
  },
  {
   "cell_type": "code",
   "execution_count": 9,
   "source": [
    "q = 17 // 3\r\n",
    "r = 17 % 3\r\n",
    "print('quotient = ', q , 'reste =',  r)\r\n",
    "\r\n",
    "#or\r\n",
    "\r\n",
    "divmod(17,3)"
   ],
   "outputs": [
    {
     "output_type": "stream",
     "name": "stdout",
     "text": [
      "quotient =  5 reste = 2\n"
     ]
    }
   ],
   "metadata": {}
  },
  {
   "cell_type": "markdown",
   "source": [
    "Create two integer variables `a, b` of your choice and swap their content."
   ],
   "metadata": {}
  },
  {
   "cell_type": "code",
   "execution_count": 11,
   "source": [
    "a = 3\r\n",
    "b = 5\r\n",
    "tmp = b\r\n",
    "b = a \r\n",
    "a = tmp \r\n",
    "\r\n",
    "print (\"a =\", a, \"b =\", b)"
   ],
   "outputs": [
    {
     "output_type": "stream",
     "name": "stdout",
     "text": [
      "a = 5 b = 3\n"
     ]
    }
   ],
   "metadata": {}
  },
  {
   "cell_type": "markdown",
   "source": [
    "Modify `a` inplace, so that the new value of `a` is twice its previous value."
   ],
   "metadata": {}
  },
  {
   "cell_type": "code",
   "execution_count": 12,
   "source": [
    "a = a*2\r\n",
    "print(a)"
   ],
   "outputs": [
    {
     "output_type": "stream",
     "name": "stdout",
     "text": [
      "10\n"
     ]
    }
   ],
   "metadata": {}
  },
  {
   "cell_type": "markdown",
   "source": [
    "Define a complex number `z` and print it as\n",
    "\n",
    "`real=real-part, imag=imaginary-part`"
   ],
   "metadata": {}
  },
  {
   "cell_type": "code",
   "execution_count": 13,
   "source": [
    "z = complex (2,3)\r\n",
    "print( \"real =\",  z.real, \"imag = \", z.imag)"
   ],
   "outputs": [
    {
     "output_type": "stream",
     "name": "stdout",
     "text": [
      "real = 2.0 imag =  3.0\n"
     ]
    }
   ],
   "metadata": {}
  },
  {
   "cell_type": "markdown",
   "source": [
    "## Strings\n"
   ],
   "metadata": {}
  },
  {
   "cell_type": "markdown",
   "source": [
    "Propose two ways to define an empty string"
   ],
   "metadata": {}
  },
  {
   "cell_type": "code",
   "execution_count": 16,
   "source": [
    "str1 =\"\"\r\n",
    "str2 = str()"
   ],
   "outputs": [],
   "metadata": {}
  },
  {
   "cell_type": "markdown",
   "source": [
    "Define a string made of the 26 letters of the alphabet (lower case), then\n",
    "- What is the 12th letter of the alphabet\n",
    "- What are the 10 last letters of the alphabet\n",
    "- What are the 5th to the 10th letters of the alphabet\n",
    "- Create a new string where the 26 letters are converted to upper case."
   ],
   "metadata": {}
  },
  {
   "cell_type": "code",
   "execution_count": 22,
   "source": [
    "alphabet = \"abcdefghijklmnopqrstuvwyz\"\r\n",
    "letter12 = alphabet[11]\r\n",
    "ten_last_letters = alphabet[-10:]\r\n",
    "between_five_ten = alphabet[4:10]\r\n",
    "ALPHABET = alphabet.upper()"
   ],
   "outputs": [],
   "metadata": {}
  },
  {
   "cell_type": "markdown",
   "source": [
    "Extract the first 4 digits of the number `x = 2341324530045968` (answer is `2341`)."
   ],
   "metadata": {}
  },
  {
   "cell_type": "code",
   "execution_count": 23,
   "source": [
    "x = 2341324530045968\r\n",
    "L = x // 1000000000000\r\n",
    "L"
   ],
   "outputs": [
    {
     "output_type": "execute_result",
     "data": {
      "text/plain": [
       "2341"
      ]
     },
     "metadata": {},
     "execution_count": 23
    }
   ],
   "metadata": {}
  },
  {
   "cell_type": "markdown",
   "source": [
    "## Lists"
   ],
   "metadata": {}
  },
  {
   "cell_type": "markdown",
   "source": [
    "Propose two ways to define an empty list."
   ],
   "metadata": {}
  },
  {
   "cell_type": "code",
   "execution_count": 26,
   "source": [
    "L1 = []\r\n",
    "L2 = list()\r\n",
    "print(L1, L2)"
   ],
   "outputs": [
    {
     "output_type": "stream",
     "name": "stdout",
     "text": [
      "[] []\n"
     ]
    }
   ],
   "metadata": {}
  },
  {
   "cell_type": "markdown",
   "source": [
    "Create the list of consecutive integers from 5 to 11."
   ],
   "metadata": {}
  },
  {
   "cell_type": "code",
   "execution_count": 27,
   "source": [
    "L = [k for k in range (5,12)]\r\n",
    "L"
   ],
   "outputs": [
    {
     "output_type": "execute_result",
     "data": {
      "text/plain": [
       "[5, 6, 7, 8, 9, 10, 11]"
      ]
     },
     "metadata": {},
     "execution_count": 27
    }
   ],
   "metadata": {}
  },
  {
   "cell_type": "markdown",
   "source": [
    "Add `100` to this list."
   ],
   "metadata": {}
  },
  {
   "cell_type": "code",
   "execution_count": 28,
   "source": [
    "L.append(100)\r\n",
    "L"
   ],
   "outputs": [
    {
     "output_type": "execute_result",
     "data": {
      "text/plain": [
       "[5, 6, 7, 8, 9, 10, 11, 100]"
      ]
     },
     "metadata": {},
     "execution_count": 28
    }
   ],
   "metadata": {}
  },
  {
   "cell_type": "markdown",
   "source": [
    "Given the following list, \n",
    "Change the `\"sdia\"` to its reverse (`\"aids\"`)."
   ],
   "metadata": {}
  },
  {
   "cell_type": "code",
   "execution_count": 66,
   "source": [
    "x = [10, [3, 4], [5, [100, 200, [\"sdia\"]], 23, 11], 1, 7]\r\n",
    "x"
   ],
   "outputs": [
    {
     "output_type": "execute_result",
     "data": {
      "text/plain": [
       "[10, [3, 4], [5, [100, 200, ['sdia']], 23, 11], 1, 7]"
      ]
     },
     "metadata": {},
     "execution_count": 66
    }
   ],
   "metadata": {}
  },
  {
   "cell_type": "code",
   "execution_count": 65,
   "source": [
    "x[2][1][2][0][::-1]"
   ],
   "outputs": [
    {
     "output_type": "execute_result",
     "data": {
      "text/plain": [
       "'aids'"
      ]
     },
     "metadata": {},
     "execution_count": 65
    }
   ],
   "metadata": {}
  },
  {
   "cell_type": "code",
   "execution_count": 41,
   "source": [
    "x[2][1][2][0] = x[2][1][2][0][::-1]\r\n",
    "x"
   ],
   "outputs": [
    {
     "output_type": "execute_result",
     "data": {
      "text/plain": [
       "[10, [3, 4], [5, [100, 200, ['aids']], 23, 11], 1, 7]"
      ]
     },
     "metadata": {},
     "execution_count": 41
    }
   ],
   "metadata": {}
  },
  {
   "cell_type": "markdown",
   "source": [
    "Given the following list, \r\n",
    "\r\n",
    "  1. extract the first two items\r\n",
    "  2. extract the last two items\r\n",
    "  3. find the index of the first occurence of `9`\r\n",
    "  4. extract the items located at odd indices\r\n",
    "  5. create a new list which corresponds to the reversed version of the originial list\r\n",
    "  6. create a new list where each item of the original list is raised to the power 3"
   ],
   "metadata": {}
  },
  {
   "cell_type": "code",
   "execution_count": 52,
   "source": [
    "x = [3, 7, 5, 3, 8, 6, 8, 8, 0, 7, 3, 9, 3, 4, 2, 7, 0, 9, 5, 0, 0, 9, 0, 9, 3,1, 4, 0, 5, 5, 5, 8, 9, 9, 5, 5, 4, 9, 5, 6, 2, 8, 5, 2, 4, 9, 2, 2, 3, 1]\r\n",
    "\r\n",
    "print(x[0:2])\r\n",
    "print(x[-2:])\r\n",
    "print(x.index(9))\r\n",
    "print([x[2*i] for i in range (int(len(x)/2))] )\r\n",
    "print([x**3 for x in range (len(x))])"
   ],
   "outputs": [
    {
     "output_type": "stream",
     "name": "stdout",
     "text": [
      "[3, 7]\n",
      "[3, 1]\n",
      "11\n",
      "[3, 5, 8, 8, 0, 3, 3, 2, 0, 5, 0, 0, 3, 4, 5, 5, 9, 5, 4, 5, 2, 5, 4, 2, 3]\n",
      "[0, 1, 8, 27, 64, 125, 216, 343, 512, 729, 1000, 1331, 1728, 2197, 2744, 3375, 4096, 4913, 5832, 6859, 8000, 9261, 10648, 12167, 13824, 15625, 17576, 19683, 21952, 24389, 27000, 29791, 32768, 35937, 39304, 42875, 46656, 50653, 54872, 59319, 64000, 68921, 74088, 79507, 85184, 91125, 97336, 103823, 110592, 117649]\n"
     ]
    }
   ],
   "metadata": {}
  },
  {
   "cell_type": "markdown",
   "source": [
    "## Tuples"
   ],
   "metadata": {}
  },
  {
   "cell_type": "markdown",
   "source": [
    "\n",
    "Propose two ways to define an empty tuple."
   ],
   "metadata": {}
  },
  {
   "cell_type": "code",
   "execution_count": 56,
   "source": [
    "t1 = tuple()\r\n",
    "t2 = ()\r\n",
    "\r\n"
   ],
   "outputs": [],
   "metadata": {}
  },
  {
   "cell_type": "markdown",
   "source": [
    "Given the following tuple\n",
    "- try to replace the second item (`4`) to `8`.\n",
    "- modify the list so that the second element of the first item is raised to the power 5 "
   ],
   "metadata": {}
  },
  {
   "cell_type": "code",
   "execution_count": 63,
   "source": [
    "x = ([1, 2, 3], 4)\r\n",
    "\r\n",
    "x[0][1] = x[0][1]**5\r\n",
    "x"
   ],
   "outputs": [
    {
     "output_type": "execute_result",
     "data": {
      "text/plain": [
       "([1, 32, 3], 4)"
      ]
     },
     "metadata": {},
     "execution_count": 63
    }
   ],
   "metadata": {}
  },
  {
   "cell_type": "markdown",
   "source": [
    "x = ([1, 2, 3], 4)"
   ],
   "metadata": {}
  },
  {
   "cell_type": "markdown",
   "source": [
    "What is the main difference between a list and a tuple?"
   ],
   "metadata": {}
  },
  {
   "cell_type": "markdown",
   "source": [
    "## Sets"
   ],
   "metadata": {}
  },
  {
   "cell_type": "markdown",
   "source": [
    "Create an empty set"
   ],
   "metadata": {}
  },
  {
   "cell_type": "code",
   "execution_count": 67,
   "source": [
    "S = set()"
   ],
   "outputs": [],
   "metadata": {}
  },
  {
   "cell_type": "markdown",
   "source": [
    "Compute the intersection between $A = \\{1, 2, 3\\}$ and $B = \\{2, 4, 5, 6\\}$."
   ],
   "metadata": {}
  },
  {
   "cell_type": "code",
   "execution_count": 68,
   "source": [
    "A = {1,2,3}\r\n",
    "B = {2,4,5,6}\r\n",
    "I = A.intersection(B)\r\n",
    "I\r\n"
   ],
   "outputs": [
    {
     "output_type": "execute_result",
     "data": {
      "text/plain": [
       "{2}"
      ]
     },
     "metadata": {},
     "execution_count": 68
    }
   ],
   "metadata": {}
  },
  {
   "cell_type": "markdown",
   "source": [
    "From the following set\r\n",
    "- add the numbers 4, 5, 6\r\n",
    "- remove the numbers 1, 2, 3\r\n",
    "- check if the resulting set is contained in `{1, 2, 4, 5, 6, 10}` "
   ],
   "metadata": {}
  },
  {
   "cell_type": "code",
   "execution_count": 81,
   "source": [
    "x = {0, 1, 2, 3, 6, 7, 8, 9, 10}"
   ],
   "outputs": [],
   "metadata": {}
  },
  {
   "cell_type": "code",
   "execution_count": 3,
   "source": [
    "x = {0, 1, 2, 3, 6, 7, 8, 9, 10}\r\n",
    "x.add(4)\r\n",
    "x.add(5)\r\n",
    "x.add(6)\r\n",
    "x.remove(1)\r\n",
    "x.remove(2)\r\n",
    "x.remove(3)\r\n",
    "print(x)\r\n",
    "new= {1, 2, 4, 5, 6, 10}\r\n",
    "print(new)\r\n",
    "x.intersection(new) == x"
   ],
   "outputs": [
    {
     "output_type": "stream",
     "name": "stdout",
     "text": [
      "{0, 4, 5, 6, 7, 8, 9, 10}\n",
      "{1, 2, 4, 5, 6, 10}\n"
     ]
    },
    {
     "output_type": "execute_result",
     "data": {
      "text/plain": [
       "False"
      ]
     },
     "metadata": {},
     "execution_count": 3
    }
   ],
   "metadata": {}
  },
  {
   "cell_type": "markdown",
   "source": [
    "## Dictionnaries"
   ],
   "metadata": {}
  },
  {
   "cell_type": "markdown",
   "source": [
    "Propose two ways to define an empty dictionary"
   ],
   "metadata": {}
  },
  {
   "cell_type": "code",
   "execution_count": 6,
   "source": [
    "D1 = dict()\r\n",
    "D2 = {}"
   ],
   "outputs": [],
   "metadata": {}
  },
  {
   "cell_type": "markdown",
   "source": [
    "Propose at least 3 ways to define a dictionary with \r\n",
    "- keys `(\"a\", \"b\", \"c\", \"d\")`\r\n",
    "- values `(1, 3, 5 , 7)`"
   ],
   "metadata": {}
  },
  {
   "cell_type": "code",
   "execution_count": 1,
   "source": [
    "dict1 = { \"a\" : 1, \"b\" : 3, \"c\":5, \"d\":7}\r\n",
    "\r\n",
    "keys = [\"a\", \"b\", \"c\",\"d\"]\r\n",
    "values = [1,3,5,7]\r\n",
    "dict2 = dict(zip(keys, values))\r\n",
    "print(dict2)\r\n",
    "\r\n",
    "\r\n"
   ],
   "outputs": [
    {
     "output_type": "stream",
     "name": "stdout",
     "text": [
      "{'a': 1, 'b': 3, 'c': 5, 'd': 7}\n"
     ]
    }
   ],
   "metadata": {}
  },
  {
   "cell_type": "markdown",
   "source": [
    "Given the following dictionary, use indexing to get to the word `\"sdia\"`"
   ],
   "metadata": {}
  },
  {
   "cell_type": "code",
   "execution_count": 2,
   "source": [
    "d = {\r\n",
    "    \"outer\": [\r\n",
    "        1,\r\n",
    "        2,\r\n",
    "        3,\r\n",
    "        {\"inner\": [\"this\", \"is\", \"inception\", {\"inner_inner\": [1, 2, 3, \"sdia\"]}]},\r\n",
    "    ]\r\n",
    "}"
   ],
   "outputs": [],
   "metadata": {}
  },
  {
   "cell_type": "code",
   "execution_count": 6,
   "source": [
    "d[\"outer\"][3]['inner'][3]['inner_inner'][3]"
   ],
   "outputs": [
    {
     "output_type": "execute_result",
     "data": {
      "text/plain": [
       "'sdia'"
      ]
     },
     "metadata": {},
     "execution_count": 6
    }
   ],
   "metadata": {}
  },
  {
   "cell_type": "markdown",
   "source": [
    "From the following dictionary,\r\n",
    "- Create the list of keys\r\n",
    "- Create the list of values\r\n",
    "- Check if the key `\"abc\"` is present, if not, return `123`.\r\n",
    "- Merge the initial dictionary with `{\"e\": -1, 4: True}`"
   ],
   "metadata": {}
  },
  {
   "cell_type": "code",
   "execution_count": 18,
   "source": [
    "d2={\"e\": -1, 4: True}"
   ],
   "outputs": [],
   "metadata": {}
  },
  {
   "cell_type": "code",
   "execution_count": 17,
   "source": [
    "d1 = dict(zip([(0, 1), \"e\", 1, None], [\"abc\", 4, None, 1 + 2j]))\r\n",
    "d1"
   ],
   "outputs": [
    {
     "output_type": "execute_result",
     "data": {
      "text/plain": [
       "{(0, 1): 'abc', 'e': 4, 1: None, None: (1+2j)}"
      ]
     },
     "metadata": {},
     "execution_count": 17
    }
   ],
   "metadata": {}
  },
  {
   "cell_type": "code",
   "execution_count": 20,
   "source": [
    "K = list(d1.keys())\r\n",
    "V = list(d1.values())\r\n",
    "print(K)\r\n",
    "print(V)\r\n",
    "print(\"abc\" in K)\r\n",
    "\r\n",
    "d1.update(d2)\r\n",
    "print(d1)\r\n",
    "\r\n",
    "\r\n",
    "\r\n",
    "\r\n"
   ],
   "outputs": [
    {
     "output_type": "stream",
     "name": "stdout",
     "text": [
      "[(0, 1), 'e', 1, None, 4]\n",
      "['abc', -1, None, (1+2j), True]\n",
      "False\n",
      "{(0, 1): 'abc', 'e': -1, 1: None, None: (1+2j), 4: True}\n"
     ]
    }
   ],
   "metadata": {}
  },
  {
   "cell_type": "markdown",
   "source": [
    "## Conditions"
   ],
   "metadata": {}
  },
  {
   "cell_type": "markdown",
   "source": [
    "Propose two ways to construct the list of odd values ranging from 0 to 30"
   ],
   "metadata": {}
  },
  {
   "cell_type": "code",
   "execution_count": 25,
   "source": [
    "L1 = [2*k+1 for k in range (0,15)]\r\n",
    "L1\r\n"
   ],
   "outputs": [
    {
     "output_type": "execute_result",
     "data": {
      "text/plain": [
       "[1, 3, 5, 7, 9, 11, 13, 15, 17, 19, 21, 23, 25, 27, 29]"
      ]
     },
     "metadata": {},
     "execution_count": 25
    }
   ],
   "metadata": {}
  },
  {
   "cell_type": "markdown",
   "source": [
    "From the following list, create another list which contains\n",
    "- `\"fiz\"` if the item is a multiple of 5,\n",
    "- `\"buz\"` if the item is a multiple of 7,\n",
    "- `\"fizbuz\"` if the item is a both a multiple of 5 and 7,\n",
    "- the index of the item otherwise."
   ],
   "metadata": {}
  },
  {
   "cell_type": "code",
   "execution_count": 28,
   "source": [
    "5%5"
   ],
   "outputs": [
    {
     "output_type": "execute_result",
     "data": {
      "text/plain": [
       "0"
      ]
     },
     "metadata": {},
     "execution_count": 28
    }
   ],
   "metadata": {}
  },
  {
   "cell_type": "code",
   "execution_count": 31,
   "source": [
    "x = [2, 1, 3, 31, 35, 20, 70, 132, 144, 49]\r\n",
    "L=[]\r\n",
    "for i in range (len(x)):\r\n",
    "    if ( x[i]%5 ==0) & ( x[i]%7 ==0):\r\n",
    "        L.append(\"fizbuz\")\r\n",
    "    else : \r\n",
    "        if x[i]%5 ==0:\r\n",
    "            L.append('fiz')\r\n",
    "        if x[i]%7 ==0:\r\n",
    "            L.append(\"buz\")\r\n",
    "        else :\r\n",
    "            L.append(i)\r\n",
    "\r\n",
    "print(L)"
   ],
   "outputs": [
    {
     "output_type": "stream",
     "name": "stdout",
     "text": [
      "[0, 1, 2, 3, 'fizbuz', 'fiz', 5, 'fizbuz', 7, 8, 'buz']\n"
     ]
    }
   ],
   "metadata": {}
  },
  {
   "cell_type": "markdown",
   "source": [
    "Given a string variable `course`, construct a `if/elif/else` statement that prints:\n",
    "- `\"That is very useful!\"` if `course` is `\"maths\"` (any kind of capitalization)\n",
    "- `\"That is very useful!\"` if `course` is `\"python\"` (any kind of capitalization)\n",
    "- `\"How nice!\"` if `course` is `\"meditation\"` (any kind of capitalization)\n",
    "- `\"You're not at Hogwarts\"` if `course` is `\"magic\"` (any kind of capitalization)\n",
    "- otherwise `\"What is this COURSE?\"` if `course` is anything else."
   ],
   "metadata": {}
  },
  {
   "cell_type": "code",
   "execution_count": 33,
   "source": [
    "mot = \"Abs\"\r\n",
    "mot.lower()"
   ],
   "outputs": [
    {
     "output_type": "execute_result",
     "data": {
      "text/plain": [
       "'abs'"
      ]
     },
     "metadata": {},
     "execution_count": 33
    }
   ],
   "metadata": {}
  },
  {
   "cell_type": "code",
   "execution_count": 36,
   "source": [
    "def test(course):\r\n",
    "    if (course.lower() == \"maths\") | (course.lower()==\"python\"):\r\n",
    "        rep = \"That is very useful\"\r\n",
    "    elif course.lower() == \"meditation\":\r\n",
    "        rep = \"How nice!\"\r\n",
    "    elif course.lower() == \"magic\":\r\n",
    "        rep = \"You're not at Hogwarts\"\r\n",
    "    else : \r\n",
    "        rep = \"What is this COURSE?\"\r\n",
    "    return rep\r\n",
    "\r\n",
    "test('python')\r\n",
    "\r\n",
    "    "
   ],
   "outputs": [
    {
     "output_type": "execute_result",
     "data": {
      "text/plain": [
       "'That is very useful'"
      ]
     },
     "metadata": {},
     "execution_count": 36
    }
   ],
   "metadata": {}
  },
  {
   "cell_type": "markdown",
   "source": [
    "Given the following variables, create and print the string\n",
    "\n",
    "``quantity`` ``fruit``(s) cost(s) $``price``\n",
    "\n",
    "such that\n",
    "- there is an `\"s\"` at `\"cost\"` when there is more only one fruit,\n",
    "- there is an `\"s\"` at `\"fruit\"` when there is more that one fruit,\n",
    "- the price is displayed as ...,xxx,xxx.yy where yy corresponds rounded cents value"
   ],
   "metadata": {}
  },
  {
   "cell_type": "code",
   "execution_count": 51,
   "source": [
    "def test2 (qty, frt, pr):\r\n",
    "    S1 = \"\"\r\n",
    "    S2= \"\"\r\n",
    "    if qty == 1: \r\n",
    "        S2 = \"s\"\r\n",
    "    else : \r\n",
    "        S1 = \"s\"\r\n",
    "    rep= str(qty) +\" \" +frt+S1+\" \"+\"cost\"+S2+\" $\"+str(round(price,2))\r\n",
    "    return rep"
   ],
   "outputs": [],
   "metadata": {}
  },
  {
   "cell_type": "code",
   "execution_count": 52,
   "source": [
    "quantity = 1\r\n",
    "fruit = \"avocado\"\r\n",
    "price = 1.8912392e4"
   ],
   "outputs": [],
   "metadata": {}
  },
  {
   "cell_type": "code",
   "execution_count": 53,
   "source": [
    "test2(quantity, fruit, price)"
   ],
   "outputs": [
    {
     "output_type": "execute_result",
     "data": {
      "text/plain": [
       "'1 avocado costs $18912.39'"
      ]
     },
     "metadata": {},
     "execution_count": 53
    }
   ],
   "metadata": {}
  },
  {
   "cell_type": "markdown",
   "source": [
    "## Functions\n",
    "\n",
    "- Create your function in `src/lab1/functions.py` files\n",
    "- Import them using `from lab1.functions import MYFUNCTION`"
   ],
   "metadata": {}
  },
  {
   "cell_type": "code",
   "execution_count": 80,
   "source": [
    "from lab1.functions import benco2000\r\n",
    "benco2000"
   ],
   "outputs": [
    {
     "output_type": "execute_result",
     "data": {
      "text/plain": [
       "'b'"
      ]
     },
     "metadata": {},
     "execution_count": 80
    }
   ],
   "metadata": {}
  },
  {
   "cell_type": "code",
   "execution_count": 2,
   "source": [
    "from lab1.functions import is_unique\r\n"
   ],
   "outputs": [],
   "metadata": {}
  },
  {
   "cell_type": "markdown",
   "source": [
    "Define the function `is_unique(x)` which takes a list of integers `x` as input and returns `True` if the there is no duplicate items otherwise return `False`."
   ],
   "metadata": {}
  },
  {
   "cell_type": "code",
   "execution_count": 3,
   "source": [
    "is_unique([2,4,5])"
   ],
   "outputs": [
    {
     "output_type": "execute_result",
     "data": {
      "text/plain": [
       "True"
      ]
     },
     "metadata": {},
     "execution_count": 3
    }
   ],
   "metadata": {}
  },
  {
   "cell_type": "markdown",
   "source": [
    "Define a function `triangle_shape(height)`, that returns \n",
    "- `\"\"` if `height=0`, \n",
    "- otherwise it returns a string that forms a triangle with height prescribed by `height`.\n",
    "\n",
    "**Examples**\n",
    "\n",
    "height=1\n",
    "```\n",
    "x\n",
    "```\n",
    "\n",
    "height=2\n",
    "```\n",
    " x \n",
    "xxx\n",
    "```\n",
    "\n",
    "height=3\n",
    "```\n",
    "  x  \n",
    " xxx \n",
    "xxxxx\n",
    "```\n",
    "\n",
    "height=4\n",
    "```\n",
    "   x   \n",
    "  xxx  \n",
    " xxxxx \n",
    "xxxxxxx\n",
    "```\n",
    "\n",
    "height=5\n",
    "```\n",
    "    x    \n",
    "   xxx   \n",
    "  xxxxx  \n",
    " xxxxxxx \n",
    "xxxxxxxxx\n",
    "```\n",
    "\n",
    "height=6\n",
    "```\n",
    "     x     \n",
    "    xxx    \n",
    "   xxxxx   \n",
    "  xxxxxxx  \n",
    " xxxxxxxxx \n",
    "xxxxxxxxxxx\n",
    "```"
   ],
   "metadata": {}
  }
 ],
 "metadata": {
  "orig_nbformat": 4,
  "language_info": {
   "name": "python",
   "version": "3.8.11",
   "mimetype": "text/x-python",
   "codemirror_mode": {
    "name": "ipython",
    "version": 3
   },
   "pygments_lexer": "ipython3",
   "nbconvert_exporter": "python",
   "file_extension": ".py"
  },
  "kernelspec": {
   "name": "python3",
   "display_name": "Python 3.8.11 64-bit ('sdia-python': conda)"
  },
  "interpreter": {
   "hash": "b3ab59b6ffe6274b2fddff9004df0f90ad69bc9140c00cd6e86a6d953d513ed1"
  }
 },
 "nbformat": 4,
 "nbformat_minor": 2
}